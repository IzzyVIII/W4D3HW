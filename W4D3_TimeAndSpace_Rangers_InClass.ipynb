{
 "cells": [
  {
   "cell_type": "markdown",
   "metadata": {},
   "source": [
    "# Time/Space Complexity - Intro to Data Structures (User Defined)\n",
    "\n",
    "### Topics to discuss today:\n",
    "\n",
    "<ul>\n",
    "    <li>Time and Space Complexity - What is it/How do we measure it</li>\n",
    "    <li>Asymptotic Analysis</li>\n",
    "    <li><strong>Data Structures</strong></li>\n",
    "</ul>\n",
    "\n",
    "### Data Structures to discuss:\n",
    "- Arrays\n",
    "- Stacks\n",
    "- Queues\n",
    "- Linked Lists\n",
    "    - Singly Linked Lists\n",
    "    - Traversing A Linked List\n",
    "    - Finding a node in a linked list\n",
    "    - Adding to a linked list\n"
   ]
  },
  {
   "cell_type": "markdown",
   "metadata": {},
   "source": [
    "## Time and Space Complexity\n",
    "\n",
    "#### What is it?\n",
    "\n",
    "Time and space complexity is the measure of how much time a given action(function) will take to solve a problem. In the same fashion, we determine how much a given data structure will need in terms of memory allocation. A problem can have multiple solutions and finding the optimal solution for the problem needs to be analyzed in time and space.\n",
    "\n",
    "#### How do we measure Time and Space Complexity?\n",
    "\n",
    "In order to measure time and space complexity we use Asymptotic analysis. The reason for this is because we need a way to measure different algorithms (functions) based on the size of their inputs in a mathmatical way. For example, we could have a function that is computed as f(n) and another that is g(n^2). All things around the function staying constant, the only thing that changes is the size of the input. Below is the chart that shows the different Asymptotic analysis formats. "
   ]
  },
  {
   "cell_type": "markdown",
   "metadata": {},
   "source": [
    "<table style=\"text-align:center;\" class=\"table table-bordered\">\n",
    "<tbody><tr>\n",
    "<td>constant</td>\n",
    "<td>−</td>\n",
    "<td>Ο(1)</td>\n",
    "</tr>\n",
    "<tr>\n",
    "<td>logarithmic</td>\n",
    "<td>−</td>\n",
    "<td>Ο(log n)</td>\n",
    "</tr>\n",
    "<tr>\n",
    "<td>linear</td>\n",
    "<td>−</td>\n",
    "<td>Ο(n)</td>\n",
    "</tr>\n",
    "<tr>\n",
    "<td>Linear Logarithmic</td>\n",
    "<td>−</td>\n",
    "<td>Ο(n log n)</td>\n",
    "</tr>\n",
    "<tr>\n",
    "<td>quadratic</td>\n",
    "<td>−</td>\n",
    "<td>Ο(n<sup>2</sup>)</td>\n",
    "</tr>\n",
    "<tr>\n",
    "<td>cubic</td>\n",
    "<td>−</td>\n",
    "<td>Ο(n<sup>3</sup>)</td>\n",
    "</tr>\n",
    "<tr>\n",
    "<td>polynomial</td>\n",
    "<td>−</td>\n",
    "<td>n<sup>Ο(1)</sup></td>\n",
    "</tr>\n",
    "<tr>\n",
    "<td>exponential</td>\n",
    "<td>−</td>\n",
    "<td>2<sup>Ο(n)</sup></td>\n",
    "</tr>\n",
    "</tbody></table>"
   ]
  },
  {
   "cell_type": "code",
   "execution_count": null,
   "metadata": {},
   "outputs": [],
   "source": [
    "# **** ALL THIS IS MEASURED BY WORST CASE ****\n",
    "\n",
    "# CONSTANT time O(1)\n",
    "def add_nums(num1, num2):\n",
    "    return num1 + num2\n",
    "\n",
    "# LOGARITHMIC Time O(log n)\n",
    "# Binary Search\n",
    "# breaking a list down into halves or smaller parts so that \n",
    "# we never have to iterate through the entirity of the list\n",
    "def binary_search(array, target):\n",
    "    left = 0\n",
    "    right = len(array)  -1\n",
    "    while left <= right:\n",
    "        middle = (left + right) // 2\n",
    "        potential_match = array[middle]\n",
    "        if target == potential_match:\n",
    "            return f\"The index is....{middle}\"\n",
    "        elif target < potential_match:\n",
    "            right = middle - 1\n",
    "        else:\n",
    "            left = middle + 1\n",
    "    return -1\n",
    "\n",
    "# LINEAR O(n)\n",
    "# it moves in a line through an iterable and hits each item in that iterable\n",
    "arr = [1, 2, 3, 4, 5]   # less inputs less time\n",
    "arr = [5, 4, 3, 2, 1]   # time increases with the number of inputs\n",
    "def print_num(arr):\n",
    "    for num in arr:\n",
    "        if num == 1:\n",
    "        return num\n",
    "\n",
    "    \n",
    "# LINEAR LOGARITHMIC O(n log n)\n",
    "# Merge Sort\n",
    "# .sort() -- alters the original list -- only a list type (.sort() is a CONSTANT)\n",
    "# sorted() -- creates a new sorted list -- can sort any sortable anything\n",
    "\n",
    "#QUADRATIC O(n^2)\n",
    "#any nested linear operations will be quadratic:\n",
    "# 2 loops nested inside each other (double for loop)\n",
    "my_arr1 = [1, 2, 3, 4, 5]\n",
    "my_arr2 = [6, 7, 8, 9, 10]\n",
    "def print_nums2(arr1, arr2):\n",
    "    for num in arr1:\n",
    "        print(num)\n",
    "        for num2 in arr2:\n",
    "            print(num2)\n",
    "        \n",
    "\n",
    "# CUBIC O(n^3)\n",
    "# any triply nested linear operations\n",
    "my_arr1 = [1, 2, 3, 4, 5]\n",
    "my_arr2 = [6, 7, 8, 9, 10]\n",
    "my_arr3 = [11, 12, 13, 14, 15]\n",
    "def print_nums3(arr1, arr2, arr3):\n",
    "    for num in arr1:\n",
    "        print(num)\n",
    "        for num2 in arr2:\n",
    "            print(num2)\n",
    "            for num3 in arr3:\n",
    "                print(num3)"
   ]
  },
  {
   "cell_type": "markdown",
   "metadata": {},
   "source": [
    "## Arrays"
   ]
  },
  {
   "cell_type": "markdown",
   "metadata": {},
   "source": [
    "In python we benefit from the dynamic array which means the block of memory will expand as needed for the given input to the array. In traditional arrays (depending on the type of operating system) we will usually store our inputs in 4 or 8 consecutive blocks of memory. Below is a diagram of how that looks under the hood:\n",
    "\n",
    "## Which in python looks like this:\n",
    "\n",
    "\n",
    "<br><img src=\"http://www.cs.emory.edu/~cheung/Courses/170/Syllabus/09/FIGS/array02x.gif\" style=\"height:300px; width:450px;\"><br>"
   ]
  },
  {
   "cell_type": "markdown",
   "metadata": {},
   "source": [
    "### Let's take a look at some of the time and space analysis of arrays"
   ]
  },
  {
   "cell_type": "code",
   "execution_count": null,
   "metadata": {},
   "outputs": [],
   "source": [
    "my_list = [2,3]\n",
    "my_list2 = [4, 6, 8, 10]\n",
    "my_list3 = [4, 56, 3, 7, 2, 5746, 145]\n",
    "def square_nums(arr_nums):\n",
    "    squared_list = []      # LINEAR TIME AND SPACE O(n)\n",
    "    for num in arr_nums:\n",
    "        squared_list.append(num**2)\n",
    "        \n",
    "        \n",
    "# Indexing an array (list)\n",
    "# arr[i] where i is our index\n",
    "# CONSTANT TIME CONSTANT SPACE O(1)\n",
    "my_list = [1,2,3,4,5]\n",
    "my_num = my_list[3]      \n",
    "\n",
    "\n",
    "# Searching an Array/Membership Check\n",
    "# LINEAR O(n) CONSTANT SPACE\n",
    "if 1 in my_list:\n",
    "    print(\"it's here\")   \n",
    "    \n",
    "for num in my_list:\n",
    "    if num == 1:\n",
    "        print(\"it's here\")\n",
    "\n",
    "        \n",
    "# Copying an array\n",
    "#LINEAR TIME and LINEAR SPACE O(n)\n",
    "my_list_copy = my_list[:]\n",
    "\n",
    "empty_list = []\n",
    "for num in my_list:\n",
    "    empty_list.append(num)\n",
    "    \n",
    "# Setting an index\n",
    "# CONSTANT TIME and CONSTANT SPACE O(1)\n",
    "my_list = [1,2,3,4,5]\n",
    "my_list[3]=7 \n",
    "\n"
   ]
  },
  {
   "cell_type": "markdown",
   "metadata": {},
   "source": [
    "## Stacks and Queues\n",
    "\n",
    "** Stacks ** as the name suggests is a data structure that allows for data to follow the Last In First Out priciple(LIFO). Think of a stack of pancakes for example. To get the first pancake you would  start with the top and go down.\n",
    "\n",
    "##### Searching through a stack will be Linear Time O(n) - Constant Space O(1)\n",
    "##### Selecting the last item will be done in Constant Time O(1) - Constant Space O(1)\n",
    "##### Adding to the stack should take Constant Time O(1) - Constant Space O(1)\n",
    "\n",
    "** Queues ** are similar but in this case follow the First In First Out principle(FIFO). Think of this as a line in a black friday sale. The first person camped out for the big screen tv is the first to get it.\n",
    "\n",
    "##### Searching through a queue will be Linear Time O(n) - Constant Space O(1)\n",
    "##### Selecting the first item will be done in Constant Time O(1) - Constant Space O(1)\n",
    "##### Adding to the queue should take Constant Time O(1) - Constant Space O(1)"
   ]
  },
  {
   "cell_type": "code",
   "execution_count": 2,
   "metadata": {},
   "outputs": [
    {
     "name": "stdout",
     "output_type": "stream",
     "text": [
      "['pancake1']\n",
      "['pancake1', 'pancake2']\n",
      "['pancake1', 'pancake2', 'pancake3']\n",
      "['pancake1', 'pancake2', 'pancake3', 'pancake4']\n",
      "pancake4\n",
      "['pancake1', 'pancake2', 'pancake3']\n",
      "pancake3\n",
      "['pancake1', 'pancake2']\n",
      "pancake2\n",
      "['pancake1']\n"
     ]
    }
   ],
   "source": [
    "# Phat Stacks\n",
    "stack=['pancake1']\n",
    "print(stack)\n",
    "stack.append('pancake2')   # CONSTANT TIME\n",
    "print(stack)\n",
    "stack.append('pancake3')\n",
    "print(stack)\n",
    "stack.append('pancake4')\n",
    "print(stack)\n",
    "pancake4 = stack.pop()     # Popping pancake 4\n",
    "print(pancake4)\n",
    "print(stack)\n",
    "print(stack.pop())         # Popping pancake 3\n",
    "print(stack)\n",
    "print(stack.pop())         # Popping pancake 2\n",
    "print(stack)"
   ]
  },
  {
   "cell_type": "code",
   "execution_count": null,
   "metadata": {},
   "outputs": [],
   "source": [
    "from collections import deque\n",
    "# Queues"
   ]
  },
  {
   "cell_type": "markdown",
   "metadata": {},
   "source": [
    "# Sum of Parts Time Compelxity Exercise"
   ]
  },
  {
   "cell_type": "code",
   "execution_count": null,
   "metadata": {},
   "outputs": [],
   "source": [
    "#sum of parts\n",
    "https://www.codewars.com/kata/5ce399e0047a45001c853c2b"
   ]
  },
  {
   "cell_type": "markdown",
   "metadata": {},
   "source": [
    "## Linked List (Data Structure)\n",
    "\n",
    "A linked list is created by using the node class. We create a Node object and create another class to use this node object. We pass the appropriate values thorugh the node object to point the to the next data elements.\n",
    "\n",
    "There are some advantages and disadvantages with this data structure. **Advantages** Linked Lists can save memory because they can be flexibile with memory management which saves memory. **Disadvantages** Finding or adding to the list requires traversing the entire list."
   ]
  },
  {
   "cell_type": "code",
   "execution_count": 27,
   "metadata": {},
   "outputs": [],
   "source": []
  },
  {
   "cell_type": "code",
   "execution_count": null,
   "metadata": {},
   "outputs": [],
   "source": []
  },
  {
   "cell_type": "code",
   "execution_count": null,
   "metadata": {},
   "outputs": [],
   "source": [
    "HOMEWORK CODE WARS\n",
    "\n",
    "#Convert a string to an array\n",
    "#Constant: It contains a String\n",
    "def string_to_array(s):\n",
    "    if not s:\n",
    "        return [\"\"]\n",
    "    return s.split()\n",
    "\n",
    "\n",
    "#Rock Paper Scissors!\n",
    "# Constant: The number of players doesn't change, there are no loops to go through,\n",
    "# it's just being asked to check for something.\n",
    "def rps(p1, p2):\n",
    "    if p1 == p2:\n",
    "        return 'Draw!'\n",
    "    elif p1 =='rock':\n",
    "        if p2 == \"paper\":\n",
    "          return \"Player 2 won!\"\n",
    "        else: return \"Player 1 won!\"\n",
    "    elif p1 == 'scissors':\n",
    "        if p2 == \"rock\":\n",
    "          return \"Player 2 won!\"\n",
    "        else: return \"Player 1 won!\"\n",
    "    elif p1 == 'paper':\n",
    "        if p2 == \"scissors\":\n",
    "          return \"Player 2 won!\"\n",
    "        else: return \"Player 1 won!\"    \n",
    "        \n",
    "\n",
    "# Is n divisible by x and y? \n",
    "# Constant: similar to the previous one it's simply asking to run a check.\n",
    "def is_divisible(n,x,y):\n",
    "    if (n % x == 0) and (n % y == 0):\n",
    "        return True\n",
    "    else:\n",
    "        return False        "
   ]
  }
 ],
 "metadata": {
  "kernelspec": {
   "display_name": "Python 3 (ipykernel)",
   "language": "python",
   "name": "python3"
  },
  "language_info": {
   "codemirror_mode": {
    "name": "ipython",
    "version": 3
   },
   "file_extension": ".py",
   "mimetype": "text/x-python",
   "name": "python",
   "nbconvert_exporter": "python",
   "pygments_lexer": "ipython3",
   "version": "3.11.4"
  }
 },
 "nbformat": 4,
 "nbformat_minor": 2
}
